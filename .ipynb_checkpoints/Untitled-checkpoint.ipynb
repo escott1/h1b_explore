{
 "cells": [
  {
   "cell_type": "code",
   "execution_count": 2,
   "metadata": {
    "collapsed": true
   },
   "outputs": [],
   "source": [
    "import pandas as pd\n",
    "import numpy as np\n",
    "import matplotlib.pyplot as plt\n",
    "import datetime\n",
    "\n",
    "%matplotlib inline"
   ]
  },
  {
   "cell_type": "markdown",
   "metadata": {},
   "source": [
    "## H1B Analysis - Kaggle Dataset\n",
    "Questions are from the 'Inspriation' Section found here: https://www.kaggle.com/nsharan/h-1b-visa\n",
    "\n",
    "1) Is the number of petitions with Data Engineer job title increasing over time? <br>\n",
    "2) Which part of the US has the most Hardware Engineer jobs? <br>\n",
    "3) Which industry has the most number of Data Scientist positions? <br> \n",
    "4) Which employers file the most petitions each year?"
   ]
  },
  {
   "cell_type": "code",
   "execution_count": 4,
   "metadata": {
    "collapsed": false
   },
   "outputs": [],
   "source": [
    "file = 'h1b_kaggle.csv'"
   ]
  },
  {
   "cell_type": "code",
   "execution_count": 13,
   "metadata": {
    "collapsed": false
   },
   "outputs": [],
   "source": [
    "df = pd.read_csv(file,index_col=0)"
   ]
  },
  {
   "cell_type": "code",
   "execution_count": 15,
   "metadata": {
    "collapsed": false
   },
   "outputs": [
    {
     "data": {
      "text/html": [
       "<div>\n",
       "<table border=\"1\" class=\"dataframe\">\n",
       "  <thead>\n",
       "    <tr style=\"text-align: right;\">\n",
       "      <th></th>\n",
       "      <th>CASE_STATUS</th>\n",
       "      <th>EMPLOYER_NAME</th>\n",
       "      <th>SOC_NAME</th>\n",
       "      <th>JOB_TITLE</th>\n",
       "      <th>FULL_TIME_POSITION</th>\n",
       "      <th>PREVAILING_WAGE</th>\n",
       "      <th>YEAR</th>\n",
       "      <th>WORKSITE</th>\n",
       "      <th>lon</th>\n",
       "      <th>lat</th>\n",
       "    </tr>\n",
       "  </thead>\n",
       "  <tbody>\n",
       "    <tr>\n",
       "      <th>1</th>\n",
       "      <td>CERTIFIED-WITHDRAWN</td>\n",
       "      <td>UNIVERSITY OF MICHIGAN</td>\n",
       "      <td>BIOCHEMISTS AND BIOPHYSICISTS</td>\n",
       "      <td>POSTDOCTORAL RESEARCH FELLOW</td>\n",
       "      <td>N</td>\n",
       "      <td>36067.0</td>\n",
       "      <td>2016.0</td>\n",
       "      <td>ANN ARBOR, MICHIGAN</td>\n",
       "      <td>-83.743038</td>\n",
       "      <td>42.280826</td>\n",
       "    </tr>\n",
       "    <tr>\n",
       "      <th>2</th>\n",
       "      <td>CERTIFIED-WITHDRAWN</td>\n",
       "      <td>GOODMAN NETWORKS, INC.</td>\n",
       "      <td>CHIEF EXECUTIVES</td>\n",
       "      <td>CHIEF OPERATING OFFICER</td>\n",
       "      <td>Y</td>\n",
       "      <td>242674.0</td>\n",
       "      <td>2016.0</td>\n",
       "      <td>PLANO, TEXAS</td>\n",
       "      <td>-96.698886</td>\n",
       "      <td>33.019843</td>\n",
       "    </tr>\n",
       "    <tr>\n",
       "      <th>3</th>\n",
       "      <td>CERTIFIED-WITHDRAWN</td>\n",
       "      <td>PORTS AMERICA GROUP, INC.</td>\n",
       "      <td>CHIEF EXECUTIVES</td>\n",
       "      <td>CHIEF PROCESS OFFICER</td>\n",
       "      <td>Y</td>\n",
       "      <td>193066.0</td>\n",
       "      <td>2016.0</td>\n",
       "      <td>JERSEY CITY, NEW JERSEY</td>\n",
       "      <td>-74.077642</td>\n",
       "      <td>40.728158</td>\n",
       "    </tr>\n",
       "    <tr>\n",
       "      <th>4</th>\n",
       "      <td>CERTIFIED-WITHDRAWN</td>\n",
       "      <td>GATES CORPORATION, A WHOLLY-OWNED SUBSIDIARY O...</td>\n",
       "      <td>CHIEF EXECUTIVES</td>\n",
       "      <td>REGIONAL PRESIDEN, AMERICAS</td>\n",
       "      <td>Y</td>\n",
       "      <td>220314.0</td>\n",
       "      <td>2016.0</td>\n",
       "      <td>DENVER, COLORADO</td>\n",
       "      <td>-104.990251</td>\n",
       "      <td>39.739236</td>\n",
       "    </tr>\n",
       "    <tr>\n",
       "      <th>5</th>\n",
       "      <td>WITHDRAWN</td>\n",
       "      <td>PEABODY INVESTMENTS CORP.</td>\n",
       "      <td>CHIEF EXECUTIVES</td>\n",
       "      <td>PRESIDENT MONGOLIA AND INDIA</td>\n",
       "      <td>Y</td>\n",
       "      <td>157518.4</td>\n",
       "      <td>2016.0</td>\n",
       "      <td>ST. LOUIS, MISSOURI</td>\n",
       "      <td>-90.199404</td>\n",
       "      <td>38.627003</td>\n",
       "    </tr>\n",
       "  </tbody>\n",
       "</table>\n",
       "</div>"
      ],
      "text/plain": [
       "           CASE_STATUS                                      EMPLOYER_NAME  \\\n",
       "1  CERTIFIED-WITHDRAWN                             UNIVERSITY OF MICHIGAN   \n",
       "2  CERTIFIED-WITHDRAWN                             GOODMAN NETWORKS, INC.   \n",
       "3  CERTIFIED-WITHDRAWN                          PORTS AMERICA GROUP, INC.   \n",
       "4  CERTIFIED-WITHDRAWN  GATES CORPORATION, A WHOLLY-OWNED SUBSIDIARY O...   \n",
       "5            WITHDRAWN                          PEABODY INVESTMENTS CORP.   \n",
       "\n",
       "                        SOC_NAME                     JOB_TITLE  \\\n",
       "1  BIOCHEMISTS AND BIOPHYSICISTS  POSTDOCTORAL RESEARCH FELLOW   \n",
       "2               CHIEF EXECUTIVES       CHIEF OPERATING OFFICER   \n",
       "3               CHIEF EXECUTIVES         CHIEF PROCESS OFFICER   \n",
       "4               CHIEF EXECUTIVES   REGIONAL PRESIDEN, AMERICAS   \n",
       "5               CHIEF EXECUTIVES  PRESIDENT MONGOLIA AND INDIA   \n",
       "\n",
       "  FULL_TIME_POSITION  PREVAILING_WAGE    YEAR                 WORKSITE  \\\n",
       "1                  N          36067.0  2016.0      ANN ARBOR, MICHIGAN   \n",
       "2                  Y         242674.0  2016.0             PLANO, TEXAS   \n",
       "3                  Y         193066.0  2016.0  JERSEY CITY, NEW JERSEY   \n",
       "4                  Y         220314.0  2016.0         DENVER, COLORADO   \n",
       "5                  Y         157518.4  2016.0      ST. LOUIS, MISSOURI   \n",
       "\n",
       "          lon        lat  \n",
       "1  -83.743038  42.280826  \n",
       "2  -96.698886  33.019843  \n",
       "3  -74.077642  40.728158  \n",
       "4 -104.990251  39.739236  \n",
       "5  -90.199404  38.627003  "
      ]
     },
     "execution_count": 15,
     "metadata": {},
     "output_type": "execute_result"
    }
   ],
   "source": [
    "df.head()"
   ]
  },
  {
   "cell_type": "code",
   "execution_count": 44,
   "metadata": {
    "collapsed": false
   },
   "outputs": [
    {
     "data": {
      "text/html": [
       "<div>\n",
       "<table border=\"1\" class=\"dataframe\">\n",
       "  <thead>\n",
       "    <tr style=\"text-align: right;\">\n",
       "      <th></th>\n",
       "      <th>PREVAILING_WAGE</th>\n",
       "      <th>YEAR</th>\n",
       "      <th>lon</th>\n",
       "      <th>lat</th>\n",
       "    </tr>\n",
       "  </thead>\n",
       "  <tbody>\n",
       "    <tr>\n",
       "      <th>count</th>\n",
       "      <td>3.002373e+06</td>\n",
       "      <td>3.002445e+06</td>\n",
       "      <td>2.895216e+06</td>\n",
       "      <td>2.895216e+06</td>\n",
       "    </tr>\n",
       "    <tr>\n",
       "      <th>mean</th>\n",
       "      <td>1.469984e+05</td>\n",
       "      <td>2.013855e+03</td>\n",
       "      <td>-9.213441e+01</td>\n",
       "      <td>3.816054e+01</td>\n",
       "    </tr>\n",
       "    <tr>\n",
       "      <th>std</th>\n",
       "      <td>5.287609e+06</td>\n",
       "      <td>1.680612e+00</td>\n",
       "      <td>1.965591e+01</td>\n",
       "      <td>4.672835e+00</td>\n",
       "    </tr>\n",
       "    <tr>\n",
       "      <th>min</th>\n",
       "      <td>0.000000e+00</td>\n",
       "      <td>2.011000e+03</td>\n",
       "      <td>-1.578583e+02</td>\n",
       "      <td>1.343719e+01</td>\n",
       "    </tr>\n",
       "    <tr>\n",
       "      <th>25%</th>\n",
       "      <td>5.437100e+04</td>\n",
       "      <td>2.012000e+03</td>\n",
       "      <td>-1.119261e+02</td>\n",
       "      <td>3.416536e+01</td>\n",
       "    </tr>\n",
       "    <tr>\n",
       "      <th>50%</th>\n",
       "      <td>6.502100e+04</td>\n",
       "      <td>2.014000e+03</td>\n",
       "      <td>-8.615862e+01</td>\n",
       "      <td>3.910312e+01</td>\n",
       "    </tr>\n",
       "    <tr>\n",
       "      <th>75%</th>\n",
       "      <td>8.143200e+04</td>\n",
       "      <td>2.015000e+03</td>\n",
       "      <td>-7.551381e+01</td>\n",
       "      <td>4.088374e+01</td>\n",
       "    </tr>\n",
       "    <tr>\n",
       "      <th>max</th>\n",
       "      <td>6.997607e+09</td>\n",
       "      <td>2.016000e+03</td>\n",
       "      <td>1.457298e+02</td>\n",
       "      <td>6.483778e+01</td>\n",
       "    </tr>\n",
       "  </tbody>\n",
       "</table>\n",
       "</div>"
      ],
      "text/plain": [
       "       PREVAILING_WAGE          YEAR           lon           lat\n",
       "count     3.002373e+06  3.002445e+06  2.895216e+06  2.895216e+06\n",
       "mean      1.469984e+05  2.013855e+03 -9.213441e+01  3.816054e+01\n",
       "std       5.287609e+06  1.680612e+00  1.965591e+01  4.672835e+00\n",
       "min       0.000000e+00  2.011000e+03 -1.578583e+02  1.343719e+01\n",
       "25%       5.437100e+04  2.012000e+03 -1.119261e+02  3.416536e+01\n",
       "50%       6.502100e+04  2.014000e+03 -8.615862e+01  3.910312e+01\n",
       "75%       8.143200e+04  2.015000e+03 -7.551381e+01  4.088374e+01\n",
       "max       6.997607e+09  2.016000e+03  1.457298e+02  6.483778e+01"
      ]
     },
     "execution_count": 44,
     "metadata": {},
     "output_type": "execute_result"
    }
   ],
   "source": [
    "df.describe()"
   ]
  },
  {
   "cell_type": "code",
   "execution_count": 24,
   "metadata": {
    "collapsed": false
   },
   "outputs": [],
   "source": [
    "df_eng = df[df.JOB_TITLE.str.contains('DATA ENGINEER', na=False)]"
   ]
  },
  {
   "cell_type": "code",
   "execution_count": 25,
   "metadata": {
    "collapsed": false
   },
   "outputs": [
    {
     "data": {
      "text/html": [
       "<div>\n",
       "<table border=\"1\" class=\"dataframe\">\n",
       "  <thead>\n",
       "    <tr style=\"text-align: right;\">\n",
       "      <th></th>\n",
       "      <th>CASE_STATUS</th>\n",
       "      <th>EMPLOYER_NAME</th>\n",
       "      <th>SOC_NAME</th>\n",
       "      <th>JOB_TITLE</th>\n",
       "      <th>FULL_TIME_POSITION</th>\n",
       "      <th>PREVAILING_WAGE</th>\n",
       "      <th>YEAR</th>\n",
       "      <th>WORKSITE</th>\n",
       "      <th>lon</th>\n",
       "      <th>lat</th>\n",
       "    </tr>\n",
       "  </thead>\n",
       "  <tbody>\n",
       "    <tr>\n",
       "      <th>8239</th>\n",
       "      <td>CERTIFIED</td>\n",
       "      <td>AMAZON WEB SERVICES, INC.</td>\n",
       "      <td>COMPUTER AND INFORMATION SYSTEMS MANAGERS</td>\n",
       "      <td>DATA ENGINEERING MANAGER III</td>\n",
       "      <td>Y</td>\n",
       "      <td>103875.0</td>\n",
       "      <td>2016.0</td>\n",
       "      <td>SEATTLE, WASHINGTON</td>\n",
       "      <td>-122.332071</td>\n",
       "      <td>47.606209</td>\n",
       "    </tr>\n",
       "    <tr>\n",
       "      <th>8670</th>\n",
       "      <td>CERTIFIED</td>\n",
       "      <td>EMC CORPORATION</td>\n",
       "      <td>COMPUTER AND INFORMATION SYSTEMS MANAGERS</td>\n",
       "      <td>MANAGER, DATA ENGINEERING</td>\n",
       "      <td>Y</td>\n",
       "      <td>118414.0</td>\n",
       "      <td>2016.0</td>\n",
       "      <td>SAN FRANCISCO, CALIFORNIA</td>\n",
       "      <td>-122.419415</td>\n",
       "      <td>37.774929</td>\n",
       "    </tr>\n",
       "    <tr>\n",
       "      <th>8824</th>\n",
       "      <td>CERTIFIED</td>\n",
       "      <td>EMC CORPORATION</td>\n",
       "      <td>COMPUTER AND INFORMATION SYSTEMS MANAGERS</td>\n",
       "      <td>MANAGER, DATA ENGINEERING</td>\n",
       "      <td>Y</td>\n",
       "      <td>138133.0</td>\n",
       "      <td>2016.0</td>\n",
       "      <td>NEW YORK, NEW YORK</td>\n",
       "      <td>-74.005941</td>\n",
       "      <td>40.712784</td>\n",
       "    </tr>\n",
       "    <tr>\n",
       "      <th>9340</th>\n",
       "      <td>CERTIFIED</td>\n",
       "      <td>MYFITNESSPAL, INC.</td>\n",
       "      <td>COMPUTER AND INFORMATION SYSTEMS MANAGERS</td>\n",
       "      <td>HEAD OF DATA ENGINEERING &amp; SCIENCE</td>\n",
       "      <td>Y</td>\n",
       "      <td>173056.0</td>\n",
       "      <td>2016.0</td>\n",
       "      <td>SAN FRANCISCO, CALIFORNIA</td>\n",
       "      <td>-122.419415</td>\n",
       "      <td>37.774929</td>\n",
       "    </tr>\n",
       "    <tr>\n",
       "      <th>9536</th>\n",
       "      <td>CERTIFIED</td>\n",
       "      <td>CEB INC.</td>\n",
       "      <td>COMPUTER AND INFORMATION SYSTEMS MANAGERS</td>\n",
       "      <td>DIRECTOR, BIG DATA ENGINEERING</td>\n",
       "      <td>Y</td>\n",
       "      <td>92373.0</td>\n",
       "      <td>2016.0</td>\n",
       "      <td>CHAMPAIGN, ILLINOIS</td>\n",
       "      <td>-88.243383</td>\n",
       "      <td>40.116420</td>\n",
       "    </tr>\n",
       "  </tbody>\n",
       "</table>\n",
       "</div>"
      ],
      "text/plain": [
       "     CASE_STATUS              EMPLOYER_NAME  \\\n",
       "8239   CERTIFIED  AMAZON WEB SERVICES, INC.   \n",
       "8670   CERTIFIED            EMC CORPORATION   \n",
       "8824   CERTIFIED            EMC CORPORATION   \n",
       "9340   CERTIFIED         MYFITNESSPAL, INC.   \n",
       "9536   CERTIFIED                   CEB INC.   \n",
       "\n",
       "                                       SOC_NAME  \\\n",
       "8239  COMPUTER AND INFORMATION SYSTEMS MANAGERS   \n",
       "8670  COMPUTER AND INFORMATION SYSTEMS MANAGERS   \n",
       "8824  COMPUTER AND INFORMATION SYSTEMS MANAGERS   \n",
       "9340  COMPUTER AND INFORMATION SYSTEMS MANAGERS   \n",
       "9536  COMPUTER AND INFORMATION SYSTEMS MANAGERS   \n",
       "\n",
       "                               JOB_TITLE FULL_TIME_POSITION  PREVAILING_WAGE  \\\n",
       "8239        DATA ENGINEERING MANAGER III                  Y         103875.0   \n",
       "8670           MANAGER, DATA ENGINEERING                  Y         118414.0   \n",
       "8824           MANAGER, DATA ENGINEERING                  Y         138133.0   \n",
       "9340  HEAD OF DATA ENGINEERING & SCIENCE                  Y         173056.0   \n",
       "9536      DIRECTOR, BIG DATA ENGINEERING                  Y          92373.0   \n",
       "\n",
       "        YEAR                   WORKSITE         lon        lat  \n",
       "8239  2016.0        SEATTLE, WASHINGTON -122.332071  47.606209  \n",
       "8670  2016.0  SAN FRANCISCO, CALIFORNIA -122.419415  37.774929  \n",
       "8824  2016.0         NEW YORK, NEW YORK  -74.005941  40.712784  \n",
       "9340  2016.0  SAN FRANCISCO, CALIFORNIA -122.419415  37.774929  \n",
       "9536  2016.0        CHAMPAIGN, ILLINOIS  -88.243383  40.116420  "
      ]
     },
     "execution_count": 25,
     "metadata": {},
     "output_type": "execute_result"
    }
   ],
   "source": [
    "df_eng.head()"
   ]
  },
  {
   "cell_type": "code",
   "execution_count": 26,
   "metadata": {
    "collapsed": false
   },
   "outputs": [
    {
     "data": {
      "text/plain": [
       "1721"
      ]
     },
     "execution_count": 26,
     "metadata": {},
     "output_type": "execute_result"
    }
   ],
   "source": [
    "# print len(df_eng) #1721 total data engineering applications filed 2011-2016"
   ]
  },
  {
   "cell_type": "code",
   "execution_count": 36,
   "metadata": {
    "collapsed": false
   },
   "outputs": [
    {
     "data": {
      "text/plain": [
       "YEAR\n",
       "2011     60\n",
       "2012     81\n",
       "2013    151\n",
       "2014    249\n",
       "2015    394\n",
       "2016    786\n",
       "Name: JOB_TITLE, dtype: int64"
      ]
     },
     "execution_count": 36,
     "metadata": {},
     "output_type": "execute_result"
    }
   ],
   "source": [
    "df_eng.YEAR = [int(i) for i in df_eng.YEAR]\n",
    "df_eng.groupby('YEAR').JOB_TITLE.count()"
   ]
  },
  {
   "cell_type": "code",
   "execution_count": 41,
   "metadata": {
    "collapsed": false
   },
   "outputs": [
    {
     "data": {
      "text/plain": [
       "<matplotlib.text.Text at 0x118238b90>"
      ]
     },
     "execution_count": 41,
     "metadata": {},
     "output_type": "execute_result"
    },
    {
     "data": {
      "image/png": "[encoded data removed]",
      "text/plain": [
       "<matplotlib.figure.Figure at 0x117b587d0>"
      ]
     },
     "metadata": {},
     "output_type": "display_data"
    }
   ],
   "source": [
    "fig,ax = plt.subplots()\n",
    "df_eng.groupby('YEAR').JOB_TITLE.count().plot(kind='bar',ax=ax,color='red')\n",
    "ax.set_ylabel('Petitions Filed',fontsize=14)\n",
    "ax.set_xlabel('Year',fontsize=14)\n",
    "ax.set_title('Data Engineer H-1B Petitions Filed Over Time',fontsize=14)"
   ]
  },
  {
   "cell_type": "markdown",
   "metadata": {},
   "source": [
    "Can see from the plot above the clear growth over time in H-1B petitions since 2011 for Data Engineer based roles"
   ]
  },
  {
   "cell_type": "code",
   "execution_count": 43,
   "metadata": {
    "collapsed": false
   },
   "outputs": [],
   "source": [
    "df_heng = df[df.JOB_TITLE.str.contains('HARDWARE ENGINEER',na=False)]"
   ]
  },
  {
   "cell_type": "code",
   "execution_count": 46,
   "metadata": {
    "collapsed": false
   },
   "outputs": [
    {
     "data": {
      "text/html": [
       "<div>\n",
       "<table border=\"1\" class=\"dataframe\">\n",
       "  <thead>\n",
       "    <tr style=\"text-align: right;\">\n",
       "      <th></th>\n",
       "      <th>CASE_STATUS</th>\n",
       "      <th>EMPLOYER_NAME</th>\n",
       "      <th>SOC_NAME</th>\n",
       "      <th>JOB_TITLE</th>\n",
       "      <th>FULL_TIME_POSITION</th>\n",
       "      <th>PREVAILING_WAGE</th>\n",
       "      <th>YEAR</th>\n",
       "      <th>WORKSITE</th>\n",
       "      <th>lon</th>\n",
       "      <th>lat</th>\n",
       "    </tr>\n",
       "  </thead>\n",
       "  <tbody>\n",
       "    <tr>\n",
       "      <th>18886</th>\n",
       "      <td>CERTIFIED</td>\n",
       "      <td>LEEO, INC.</td>\n",
       "      <td>ARCHITECTURAL AND ENGINEERING MANAGERS</td>\n",
       "      <td>DIRECTOR OF HARDWARE ENGINEERING</td>\n",
       "      <td>Y</td>\n",
       "      <td>130395.0</td>\n",
       "      <td>2016.0</td>\n",
       "      <td>PALO ALTO, CALIFORNIA</td>\n",
       "      <td>-122.143020</td>\n",
       "      <td>37.441883</td>\n",
       "    </tr>\n",
       "    <tr>\n",
       "      <th>19019</th>\n",
       "      <td>CERTIFIED</td>\n",
       "      <td>QUALCOMM TECHNOLOGIES, INC.</td>\n",
       "      <td>ARCHITECTURAL AND ENGINEERING MANAGERS</td>\n",
       "      <td>DIRECTOR, HARDWARE ENGINEERING</td>\n",
       "      <td>Y</td>\n",
       "      <td>157394.0</td>\n",
       "      <td>2016.0</td>\n",
       "      <td>SAN DIEGO, CALIFORNIA</td>\n",
       "      <td>-117.161084</td>\n",
       "      <td>32.715738</td>\n",
       "    </tr>\n",
       "    <tr>\n",
       "      <th>19023</th>\n",
       "      <td>CERTIFIED</td>\n",
       "      <td>QUALCOMM TECHNOLOGIES, INC.</td>\n",
       "      <td>ARCHITECTURAL AND ENGINEERING MANAGERS</td>\n",
       "      <td>DIRECTOR, HARDWARE ENGINEERING</td>\n",
       "      <td>Y</td>\n",
       "      <td>157394.0</td>\n",
       "      <td>2016.0</td>\n",
       "      <td>SAN DIEGO, CALIFORNIA</td>\n",
       "      <td>-117.161084</td>\n",
       "      <td>32.715738</td>\n",
       "    </tr>\n",
       "    <tr>\n",
       "      <th>19032</th>\n",
       "      <td>CERTIFIED</td>\n",
       "      <td>NVIDIA CORPORATION</td>\n",
       "      <td>ARCHITECTURAL AND ENGINEERING MANAGERS</td>\n",
       "      <td>MANAGER HARDWARE ENGINEERING</td>\n",
       "      <td>Y</td>\n",
       "      <td>167743.0</td>\n",
       "      <td>2016.0</td>\n",
       "      <td>SANTA CLARA, CALIFORNIA</td>\n",
       "      <td>-121.955236</td>\n",
       "      <td>37.354108</td>\n",
       "    </tr>\n",
       "    <tr>\n",
       "      <th>19288</th>\n",
       "      <td>CERTIFIED</td>\n",
       "      <td>NVIDIA CORPORATION</td>\n",
       "      <td>ARCHITECTURAL AND ENGINEERING MANAGERS</td>\n",
       "      <td>MANAGER HARDWARE ENGINEERING</td>\n",
       "      <td>Y</td>\n",
       "      <td>171257.0</td>\n",
       "      <td>2016.0</td>\n",
       "      <td>SANTA CLARA, CALIFORNIA</td>\n",
       "      <td>-121.955236</td>\n",
       "      <td>37.354108</td>\n",
       "    </tr>\n",
       "  </tbody>\n",
       "</table>\n",
       "</div>"
      ],
      "text/plain": [
       "      CASE_STATUS                EMPLOYER_NAME  \\\n",
       "18886   CERTIFIED                   LEEO, INC.   \n",
       "19019   CERTIFIED  QUALCOMM TECHNOLOGIES, INC.   \n",
       "19023   CERTIFIED  QUALCOMM TECHNOLOGIES, INC.   \n",
       "19032   CERTIFIED           NVIDIA CORPORATION   \n",
       "19288   CERTIFIED           NVIDIA CORPORATION   \n",
       "\n",
       "                                     SOC_NAME  \\\n",
       "18886  ARCHITECTURAL AND ENGINEERING MANAGERS   \n",
       "19019  ARCHITECTURAL AND ENGINEERING MANAGERS   \n",
       "19023  ARCHITECTURAL AND ENGINEERING MANAGERS   \n",
       "19032  ARCHITECTURAL AND ENGINEERING MANAGERS   \n",
       "19288  ARCHITECTURAL AND ENGINEERING MANAGERS   \n",
       "\n",
       "                              JOB_TITLE FULL_TIME_POSITION  PREVAILING_WAGE  \\\n",
       "18886  DIRECTOR OF HARDWARE ENGINEERING                  Y         130395.0   \n",
       "19019    DIRECTOR, HARDWARE ENGINEERING                  Y         157394.0   \n",
       "19023    DIRECTOR, HARDWARE ENGINEERING                  Y         157394.0   \n",
       "19032      MANAGER HARDWARE ENGINEERING                  Y         167743.0   \n",
       "19288      MANAGER HARDWARE ENGINEERING                  Y         171257.0   \n",
       "\n",
       "         YEAR                 WORKSITE         lon        lat  \n",
       "18886  2016.0    PALO ALTO, CALIFORNIA -122.143020  37.441883  \n",
       "19019  2016.0    SAN DIEGO, CALIFORNIA -117.161084  32.715738  \n",
       "19023  2016.0    SAN DIEGO, CALIFORNIA -117.161084  32.715738  \n",
       "19032  2016.0  SANTA CLARA, CALIFORNIA -121.955236  37.354108  \n",
       "19288  2016.0  SANTA CLARA, CALIFORNIA -121.955236  37.354108  "
      ]
     },
     "execution_count": 46,
     "metadata": {},
     "output_type": "execute_result"
    }
   ],
   "source": [
    "df_heng.head()"
   ]
  },
  {
   "cell_type": "code",
   "execution_count": 56,
   "metadata": {
    "collapsed": false
   },
   "outputs": [
    {
     "data": {
      "text/plain": [
       "SAN DIEGO, CALIFORNIA        2688\n",
       "SANTA CLARA, CALIFORNIA       729\n",
       "SAN JOSE, CALIFORNIA          512\n",
       "FOLSOM, CALIFORNIA            405\n",
       "RALEIGH, NORTH CAROLINA       344\n",
       "AUSTIN, TEXAS                 211\n",
       "MOUNTAIN VIEW, CALIFORNIA     190\n",
       "SUNNYVALE, CALIFORNIA         113\n",
       "HILLSBORO, OREGON              98\n",
       "CHANDLER, ARIZONA              94\n",
       "Name: WORKSITE, dtype: int64"
      ]
     },
     "execution_count": 56,
     "metadata": {},
     "output_type": "execute_result"
    }
   ],
   "source": [
    "df_heng.WORKSITE.value_counts()[0:10]"
   ]
  },
  {
   "cell_type": "code",
   "execution_count": 64,
   "metadata": {
    "collapsed": false
   },
   "outputs": [
    {
     "data": {
      "text/plain": [
       "<matplotlib.text.Text at 0x1193a5910>"
      ]
     },
     "execution_count": 64,
     "metadata": {},
     "output_type": "execute_result"
    },
    {
     "data": {
      "image/png": "[encoded data removed]",
      "text/plain": [
       "<matplotlib.figure.Figure at 0x11926ea90>"
      ]
     },
     "metadata": {},
     "output_type": "display_data"
    }
   ],
   "source": [
    "fig,ax = plt.subplots(figsize=(7,5))\n",
    "df_heng.WORKSITE.value_counts()[0:10].plot(kind='barh',ax=ax,color='blue')\n",
    "ax.set_xlabel('Number of Hardware Engineers',fontsize=12)\n",
    "ax.set_ylabel('Location',fontsize=12)\n",
    "ax.set_title('10 Most Common Locations for Hardware Engineer H-1B Petitions')"
   ]
  },
  {
   "cell_type": "markdown",
   "metadata": {},
   "source": [
    "Interestingly, San Diego is the most popular location for hardware engineers. Also surprised to see Chandler AZ on the top 10 list. Not surprised to see Santa Clara, Mountain View or Sunnyvale (popular citis in 'Silicon Valley'). After digging a little deeper, the majority of hardware engineers filing for a visa in San Diego are for Qualcomm. Qualcomm is one of the largest semiconductor companies in the world. Their operations in San Diego supports a lot of high paying jobs (mediam prevailing wage of 91,000)"
   ]
  },
  {
   "cell_type": "code",
   "execution_count": 71,
   "metadata": {
    "collapsed": false
   },
   "outputs": [
    {
     "data": {
      "text/plain": [
       "count    1.604000e+03\n",
       "mean     2.032287e+05\n",
       "std      4.340884e+06\n",
       "min      6.344000e+04\n",
       "25%      8.887840e+04\n",
       "50%      9.108320e+04\n",
       "75%      1.021904e+05\n",
       "max      1.739462e+08\n",
       "Name: PREVAILING_WAGE, dtype: float64"
      ]
     },
     "execution_count": 71,
     "metadata": {},
     "output_type": "execute_result"
    }
   ],
   "source": [
    "df_qual = df_heng[(df_heng.WORKSITE == 'SAN DIEGO, CALIFORNIA') & (df_heng.EMPLOYER_NAME == 'QUALCOMM TECHNOLOGIES, INC.')]\n",
    "df_qual.PREVAILING_WAGE.describe() # median wage $91,000, total applications of 1604 from 2011 - 2016"
   ]
  },
  {
   "cell_type": "code",
   "execution_count": 72,
   "metadata": {
    "collapsed": true
   },
   "outputs": [],
   "source": [
    "df_ds = df[df.JOB_TITLE.str.contains('DATA SCIEN',na=False)]\n",
    "df_ds.SOC_NAME = [str(i).upper() for i in df_ds.SOC_NAME]"
   ]
  },
  {
   "cell_type": "code",
   "execution_count": 97,
   "metadata": {
    "collapsed": false
   },
   "outputs": [
    {
     "data": {
      "text/plain": [
       "<matplotlib.text.Text at 0x1200bee50>"
      ]
     },
     "execution_count": 97,
     "metadata": {},
     "output_type": "execute_result"
    },
    {
     "data": {
      "image/png": "[encoded data removed]",
      "text/plain": [
       "<matplotlib.figure.Figure at 0x11fc95c50>"
      ]
     },
     "metadata": {},
     "output_type": "display_data"
    }
   ],
   "source": [
    "fig,ax = plt.subplots(3,figsize=(10,10))\n",
    "df_ds.SOC_NAME.value_counts()[0:10].plot(kind='barh',color='red',ax=ax[0],label='SOC Code')\n",
    "ax[0].legend()\n",
    "df_ds.EMPLOYER_NAME.value_counts()[0:10].plot(kind='barh',color='blue',ax=ax[1],label='Companies')\n",
    "ax[1].legend()\n",
    "df_ds.WORKSITE.value_counts()[0:10].plot(kind='barh',color='green',ax=ax[2],label='Locations')\n",
    "ax[2].legend()\n",
    "ax[2].set_xlabel('Count')"
   ]
  },
  {
   "cell_type": "markdown",
   "metadata": {},
   "source": [
    "Statistician, Computer Sciencist and Operations Reasearcher dominated the top industry roles for data scientists filing for H-1B. Most common company filing for DS roles has been Microsoft, followed by Facebook, LinkedIn and Uber. The two most popular locations are unsurprisingly San Francisco and New York"
   ]
  },
  {
   "cell_type": "code",
   "execution_count": 84,
   "metadata": {
    "collapsed": false
   },
   "outputs": [
    {
     "data": {
      "text/plain": [
       "MICROSOFT CORPORATION                            190\n",
       "FACEBOOK, INC.                                   120\n",
       "LINKEDIN CORPORATION                              91\n",
       "UBER TECHNOLOGIES, INC.                           58\n",
       "TWITTER, INC.                                     56\n",
       "WAL-MART ASSOCIATES, INC.                         46\n",
       "NETFLIX, INC.                                     35\n",
       "GROUPON, INC.                                     31\n",
       "PAYPAL, INC.                                      30\n",
       "IBM CORPORATION                                   28\n",
       "APPLE INC.                                        26\n",
       "AIRBNB, INC.                                      25\n",
       "EMC CORPORATION                                   24\n",
       "CAPITAL ONE SERVICES, LLC                         22\n",
       "AGILONE, INC.                                     19\n",
       "GSR TECHNOLOGIES INC.                             19\n",
       "MONSANTO COMPANY                                  17\n",
       "AIG PC GLOBAL SERVICES, INC.                      17\n",
       "THE NIELSEN COMPANY (US), LLC                     16\n",
       "EBAY INC.                                         16\n",
       "SQUARE, INC.                                      16\n",
       "RANG TECHNOLOGIES, INC.                           15\n",
       "COMRISE TECHNOLOGY, INC.                          15\n",
       "FANATICS RETAIL GROUP FULFILLMENT, INC.           14\n",
       "INTUIT INC.                                       14\n",
       "JPMORGAN CHASE & CO.                              14\n",
       "EVENTBRITE, INC.                                  13\n",
       "ELECTRONIC ARTS, INC.                             13\n",
       "AT&T SERVICES, INC.                               13\n",
       "COMCAST CABLE COMMUNICATIONS, LLC                 12\n",
       "                                                ... \n",
       "LEGACY.COM                                         1\n",
       "GEISINGER SYSTEM SERVICES                          1\n",
       "DELL FINANCIAL SERVICES L.L.C.                     1\n",
       "CONSULTADD INC.                                    1\n",
       "INTELOS TECH, INC.                                 1\n",
       "XOBNI CORPORATION                                  1\n",
       "CITIZEN VC INC.                                    1\n",
       "KAPLAN, INC.D/B/A METIS                            1\n",
       "PFIZER INC                                         1\n",
       "INTENT MEDIA, INC.                                 1\n",
       "GRAND ROUNDS INC.                                  1\n",
       "SWISS RE MANAGEMENT (US) CORPORATION               1\n",
       "QUAERA INSIGHTS LLC                                1\n",
       "INVENTURE CAPITAL CORPORATION                      1\n",
       "DRSTI360 CORPORATION                               1\n",
       "MOLEX, LLC                                         1\n",
       "BUXTON CONSULTING, INC.                            1\n",
       "REAL CAPITAL ANALYTICS                             1\n",
       "FLURISH INC.                                       1\n",
       "SUNPOWER CORPORATION                               1\n",
       "CAESARS ENTERTAINMENT OPERATING COMPANY, INC.      1\n",
       "WINDLOGICS, INC.                                   1\n",
       "RGA ENTERPRISE SERVICES COMPANY                    1\n",
       "ICX MEDIA, INC.                                    1\n",
       "SYMPHONYIRI GROUP, INC.                            1\n",
       "AMERICAN EXPRESS TRS, COMPANY INC.                 1\n",
       "LITLE & CO., LLC                                   1\n",
       "GRO INTELLIGENCE, INC.                             1\n",
       "GENSCAPE, INC.                                     1\n",
       "FLO, LLC                                           1\n",
       "Name: EMPLOYER_NAME, dtype: int64"
      ]
     },
     "execution_count": 84,
     "metadata": {},
     "output_type": "execute_result"
    }
   ],
   "source": [
    "df_ds.EMPLOYER_NAME.value_counts()"
   ]
  },
  {
   "cell_type": "code",
   "execution_count": 146,
   "metadata": {
    "collapsed": false
   },
   "outputs": [],
   "source": [
    "#df.YEAR = [int(str(i)) for i in df.YEAR]\n",
    "df_temp = df.groupby(['YEAR','EMPLOYER_NAME']).CASE_STATUS.count()"
   ]
  },
  {
   "cell_type": "code",
   "execution_count": 147,
   "metadata": {
    "collapsed": false
   },
   "outputs": [
    {
     "data": {
      "text/plain": [
       "<matplotlib.legend.Legend at 0x12f4ad7d0>"
      ]
     },
     "execution_count": 147,
     "metadata": {},
     "output_type": "execute_result"
    },
    {
     "data": {
      "image/png": "[encoded data removed]",
      "text/plain": [
       "<matplotlib.figure.Figure at 0x12f316790>"
      ]
     },
     "metadata": {},
     "output_type": "display_data"
    }
   ],
   "source": [
    "fig,ax = plt.subplots()\n",
    "df_temp.groupby(level='YEAR').nlargest(1).reset_index(level=0, drop=True).unstack(level=1).plot(kind='bar',ax=ax,align='center')\n",
    "ax.legend(loc='center left', bbox_to_anchor=(1, 0.5))"
   ]
  },
  {
   "cell_type": "code",
   "execution_count": null,
   "metadata": {
    "collapsed": true
   },
   "outputs": [],
   "source": []
  }
 ],
 "metadata": {
  "kernelspec": {
   "display_name": "Python 2",
   "language": "python",
   "name": "python2"
  },
  "language_info": {
   "codemirror_mode": {
    "name": "ipython",
    "version": 2
   },
   "file_extension": ".py",
   "mimetype": "text/x-python",
   "name": "python",
   "nbconvert_exporter": "python",
   "pygments_lexer": "ipython2",
   "version": "2.7.10"
  }
 },
 "nbformat": 4,
 "nbformat_minor": 0
}
